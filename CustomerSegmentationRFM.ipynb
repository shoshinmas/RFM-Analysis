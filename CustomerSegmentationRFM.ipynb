{
 "cells": [
  {
   "cell_type": "code",
   "execution_count": 1,
   "metadata": {},
   "outputs": [],
   "source": [
    "import pandas as pd\n",
    "import numpy as np\n",
    "from numpy import inf"
   ]
  },
  {
   "cell_type": "code",
   "execution_count": 2,
   "metadata": {},
   "outputs": [
    {
     "ename": "IOError",
     "evalue": "[Errno 2] File order_data_toy_1.csv does not exist: 'order_data_toy_1.csv'",
     "output_type": "error",
     "traceback": [
      "\u001b[1;31m---------------------------------------------------------------------------\u001b[0m",
      "\u001b[1;31mIOError\u001b[0m                                   Traceback (most recent call last)",
      "\u001b[1;32m<ipython-input-2-1e6e56deb626>\u001b[0m in \u001b[0;36m<module>\u001b[1;34m()\u001b[0m\n\u001b[0;32m      1\u001b[0m \u001b[1;31m#Import a csv file with data about day, buyer_id, item_det_info, pay_timestamp and etc.\u001b[0m\u001b[1;33m\u001b[0m\u001b[1;33m\u001b[0m\u001b[0m\n\u001b[1;32m----> 2\u001b[1;33m \u001b[0mdf\u001b[0m \u001b[1;33m=\u001b[0m \u001b[0mpd\u001b[0m\u001b[1;33m.\u001b[0m\u001b[0mread_csv\u001b[0m\u001b[1;33m(\u001b[0m\u001b[1;34m'order_data_toy_1.csv'\u001b[0m\u001b[1;33m,\u001b[0m \u001b[0mnames\u001b[0m \u001b[1;33m=\u001b[0m \u001b[1;33m[\u001b[0m\u001b[1;34m'day'\u001b[0m\u001b[1;33m,\u001b[0m \u001b[1;34m'order_id'\u001b[0m\u001b[1;33m,\u001b[0m\u001b[1;34m'item_det_info'\u001b[0m\u001b[1;33m,\u001b[0m\u001b[1;34m'pay_timestamp'\u001b[0m\u001b[1;33m,\u001b[0m\u001b[1;34m'buyer_id'\u001b[0m\u001b[1;33m,\u001b[0m\u001b[1;34m'promise_speed'\u001b[0m\u001b[1;33m,\u001b[0m\u001b[1;34m'merchant_id'\u001b[0m\u001b[1;33m,\u001b[0m\u001b[1;34m'Logistics_review_score'\u001b[0m\u001b[1;33m]\u001b[0m\u001b[1;33m)\u001b[0m\u001b[1;33m\u001b[0m\u001b[0m\n\u001b[0m",
      "\u001b[1;32mC:\\Users\\Marcin\\Anaconda2\\lib\\site-packages\\pandas\\io\\parsers.pyc\u001b[0m in \u001b[0;36mparser_f\u001b[1;34m(filepath_or_buffer, sep, delimiter, header, names, index_col, usecols, squeeze, prefix, mangle_dupe_cols, dtype, engine, converters, true_values, false_values, skipinitialspace, skiprows, skipfooter, nrows, na_values, keep_default_na, na_filter, verbose, skip_blank_lines, parse_dates, infer_datetime_format, keep_date_col, date_parser, dayfirst, iterator, chunksize, compression, thousands, decimal, lineterminator, quotechar, quoting, doublequote, escapechar, comment, encoding, dialect, tupleize_cols, error_bad_lines, warn_bad_lines, delim_whitespace, low_memory, memory_map, float_precision)\u001b[0m\n\u001b[0;32m    700\u001b[0m                     skip_blank_lines=skip_blank_lines)\n\u001b[0;32m    701\u001b[0m \u001b[1;33m\u001b[0m\u001b[0m\n\u001b[1;32m--> 702\u001b[1;33m         \u001b[1;32mreturn\u001b[0m \u001b[0m_read\u001b[0m\u001b[1;33m(\u001b[0m\u001b[0mfilepath_or_buffer\u001b[0m\u001b[1;33m,\u001b[0m \u001b[0mkwds\u001b[0m\u001b[1;33m)\u001b[0m\u001b[1;33m\u001b[0m\u001b[0m\n\u001b[0m\u001b[0;32m    703\u001b[0m \u001b[1;33m\u001b[0m\u001b[0m\n\u001b[0;32m    704\u001b[0m     \u001b[0mparser_f\u001b[0m\u001b[1;33m.\u001b[0m\u001b[0m__name__\u001b[0m \u001b[1;33m=\u001b[0m \u001b[0mname\u001b[0m\u001b[1;33m\u001b[0m\u001b[0m\n",
      "\u001b[1;32mC:\\Users\\Marcin\\Anaconda2\\lib\\site-packages\\pandas\\io\\parsers.pyc\u001b[0m in \u001b[0;36m_read\u001b[1;34m(filepath_or_buffer, kwds)\u001b[0m\n\u001b[0;32m    427\u001b[0m \u001b[1;33m\u001b[0m\u001b[0m\n\u001b[0;32m    428\u001b[0m     \u001b[1;31m# Create the parser.\u001b[0m\u001b[1;33m\u001b[0m\u001b[1;33m\u001b[0m\u001b[0m\n\u001b[1;32m--> 429\u001b[1;33m     \u001b[0mparser\u001b[0m \u001b[1;33m=\u001b[0m \u001b[0mTextFileReader\u001b[0m\u001b[1;33m(\u001b[0m\u001b[0mfilepath_or_buffer\u001b[0m\u001b[1;33m,\u001b[0m \u001b[1;33m**\u001b[0m\u001b[0mkwds\u001b[0m\u001b[1;33m)\u001b[0m\u001b[1;33m\u001b[0m\u001b[0m\n\u001b[0m\u001b[0;32m    430\u001b[0m \u001b[1;33m\u001b[0m\u001b[0m\n\u001b[0;32m    431\u001b[0m     \u001b[1;32mif\u001b[0m \u001b[0mchunksize\u001b[0m \u001b[1;32mor\u001b[0m \u001b[0miterator\u001b[0m\u001b[1;33m:\u001b[0m\u001b[1;33m\u001b[0m\u001b[0m\n",
      "\u001b[1;32mC:\\Users\\Marcin\\Anaconda2\\lib\\site-packages\\pandas\\io\\parsers.pyc\u001b[0m in \u001b[0;36m__init__\u001b[1;34m(self, f, engine, **kwds)\u001b[0m\n\u001b[0;32m    893\u001b[0m             \u001b[0mself\u001b[0m\u001b[1;33m.\u001b[0m\u001b[0moptions\u001b[0m\u001b[1;33m[\u001b[0m\u001b[1;34m'has_index_names'\u001b[0m\u001b[1;33m]\u001b[0m \u001b[1;33m=\u001b[0m \u001b[0mkwds\u001b[0m\u001b[1;33m[\u001b[0m\u001b[1;34m'has_index_names'\u001b[0m\u001b[1;33m]\u001b[0m\u001b[1;33m\u001b[0m\u001b[0m\n\u001b[0;32m    894\u001b[0m \u001b[1;33m\u001b[0m\u001b[0m\n\u001b[1;32m--> 895\u001b[1;33m         \u001b[0mself\u001b[0m\u001b[1;33m.\u001b[0m\u001b[0m_make_engine\u001b[0m\u001b[1;33m(\u001b[0m\u001b[0mself\u001b[0m\u001b[1;33m.\u001b[0m\u001b[0mengine\u001b[0m\u001b[1;33m)\u001b[0m\u001b[1;33m\u001b[0m\u001b[0m\n\u001b[0m\u001b[0;32m    896\u001b[0m \u001b[1;33m\u001b[0m\u001b[0m\n\u001b[0;32m    897\u001b[0m     \u001b[1;32mdef\u001b[0m \u001b[0mclose\u001b[0m\u001b[1;33m(\u001b[0m\u001b[0mself\u001b[0m\u001b[1;33m)\u001b[0m\u001b[1;33m:\u001b[0m\u001b[1;33m\u001b[0m\u001b[0m\n",
      "\u001b[1;32mC:\\Users\\Marcin\\Anaconda2\\lib\\site-packages\\pandas\\io\\parsers.pyc\u001b[0m in \u001b[0;36m_make_engine\u001b[1;34m(self, engine)\u001b[0m\n\u001b[0;32m   1120\u001b[0m     \u001b[1;32mdef\u001b[0m \u001b[0m_make_engine\u001b[0m\u001b[1;33m(\u001b[0m\u001b[0mself\u001b[0m\u001b[1;33m,\u001b[0m \u001b[0mengine\u001b[0m\u001b[1;33m=\u001b[0m\u001b[1;34m'c'\u001b[0m\u001b[1;33m)\u001b[0m\u001b[1;33m:\u001b[0m\u001b[1;33m\u001b[0m\u001b[0m\n\u001b[0;32m   1121\u001b[0m         \u001b[1;32mif\u001b[0m \u001b[0mengine\u001b[0m \u001b[1;33m==\u001b[0m \u001b[1;34m'c'\u001b[0m\u001b[1;33m:\u001b[0m\u001b[1;33m\u001b[0m\u001b[0m\n\u001b[1;32m-> 1122\u001b[1;33m             \u001b[0mself\u001b[0m\u001b[1;33m.\u001b[0m\u001b[0m_engine\u001b[0m \u001b[1;33m=\u001b[0m \u001b[0mCParserWrapper\u001b[0m\u001b[1;33m(\u001b[0m\u001b[0mself\u001b[0m\u001b[1;33m.\u001b[0m\u001b[0mf\u001b[0m\u001b[1;33m,\u001b[0m \u001b[1;33m**\u001b[0m\u001b[0mself\u001b[0m\u001b[1;33m.\u001b[0m\u001b[0moptions\u001b[0m\u001b[1;33m)\u001b[0m\u001b[1;33m\u001b[0m\u001b[0m\n\u001b[0m\u001b[0;32m   1123\u001b[0m         \u001b[1;32melse\u001b[0m\u001b[1;33m:\u001b[0m\u001b[1;33m\u001b[0m\u001b[0m\n\u001b[0;32m   1124\u001b[0m             \u001b[1;32mif\u001b[0m \u001b[0mengine\u001b[0m \u001b[1;33m==\u001b[0m \u001b[1;34m'python'\u001b[0m\u001b[1;33m:\u001b[0m\u001b[1;33m\u001b[0m\u001b[0m\n",
      "\u001b[1;32mC:\\Users\\Marcin\\Anaconda2\\lib\\site-packages\\pandas\\io\\parsers.pyc\u001b[0m in \u001b[0;36m__init__\u001b[1;34m(self, src, **kwds)\u001b[0m\n\u001b[0;32m   1851\u001b[0m         \u001b[0mkwds\u001b[0m\u001b[1;33m[\u001b[0m\u001b[1;34m'usecols'\u001b[0m\u001b[1;33m]\u001b[0m \u001b[1;33m=\u001b[0m \u001b[0mself\u001b[0m\u001b[1;33m.\u001b[0m\u001b[0musecols\u001b[0m\u001b[1;33m\u001b[0m\u001b[0m\n\u001b[0;32m   1852\u001b[0m \u001b[1;33m\u001b[0m\u001b[0m\n\u001b[1;32m-> 1853\u001b[1;33m         \u001b[0mself\u001b[0m\u001b[1;33m.\u001b[0m\u001b[0m_reader\u001b[0m \u001b[1;33m=\u001b[0m \u001b[0mparsers\u001b[0m\u001b[1;33m.\u001b[0m\u001b[0mTextReader\u001b[0m\u001b[1;33m(\u001b[0m\u001b[0msrc\u001b[0m\u001b[1;33m,\u001b[0m \u001b[1;33m**\u001b[0m\u001b[0mkwds\u001b[0m\u001b[1;33m)\u001b[0m\u001b[1;33m\u001b[0m\u001b[0m\n\u001b[0m\u001b[0;32m   1854\u001b[0m         \u001b[0mself\u001b[0m\u001b[1;33m.\u001b[0m\u001b[0munnamed_cols\u001b[0m \u001b[1;33m=\u001b[0m \u001b[0mself\u001b[0m\u001b[1;33m.\u001b[0m\u001b[0m_reader\u001b[0m\u001b[1;33m.\u001b[0m\u001b[0munnamed_cols\u001b[0m\u001b[1;33m\u001b[0m\u001b[0m\n\u001b[0;32m   1855\u001b[0m \u001b[1;33m\u001b[0m\u001b[0m\n",
      "\u001b[1;32mpandas/_libs/parsers.pyx\u001b[0m in \u001b[0;36mpandas._libs.parsers.TextReader.__cinit__\u001b[1;34m()\u001b[0m\n",
      "\u001b[1;32mpandas/_libs/parsers.pyx\u001b[0m in \u001b[0;36mpandas._libs.parsers.TextReader._setup_parser_source\u001b[1;34m()\u001b[0m\n",
      "\u001b[1;31mIOError\u001b[0m: [Errno 2] File order_data_toy_1.csv does not exist: 'order_data_toy_1.csv'"
     ]
    }
   ],
   "source": [
    "#Import a csv file with data about day, user ID, coupon details, pay_timestamp and etc.\n",
    "df = pd.read_csv('order_data_toy_1.csv', names = ['day', 'order_id','item_det_info','pay_timestamp','buyer_id','promise_speed','merchant_id','Logistics_review_score'])"
   ]
  },
  {
   "cell_type": "code",
   "execution_count": 4,
   "metadata": {
    "scrolled": true
   },
   "outputs": [
    {
     "data": {
      "text/html": [
       "<div>\n",
       "<style>\n",
       "    .dataframe thead tr:only-child th {\n",
       "        text-align: right;\n",
       "    }\n",
       "\n",
       "    .dataframe thead th {\n",
       "        text-align: left;\n",
       "    }\n",
       "\n",
       "    .dataframe tbody tr th {\n",
       "        vertical-align: top;\n",
       "    }\n",
       "</style>\n",
       "<table border=\"1\" class=\"dataframe\">\n",
       "  <thead>\n",
       "    <tr style=\"text-align: right;\">\n",
       "      <th></th>\n",
       "      <th>day</th>\n",
       "      <th>order_id</th>\n",
       "      <th>item_det_info</th>\n",
       "      <th>pay_timestamp</th>\n",
       "      <th>buyer_id</th>\n",
       "      <th>promise_speed</th>\n",
       "      <th>merchant_id</th>\n",
       "      <th>Logistics_review_score</th>\n",
       "    </tr>\n",
       "  </thead>\n",
       "  <tbody>\n",
       "    <tr>\n",
       "      <th>20170101</th>\n",
       "      <td>488</td>\n",
       "      <td>86889:1:1152.11</td>\n",
       "      <td>1/1/2017 13:07</td>\n",
       "      <td>73376137</td>\n",
       "      <td>3.0</td>\n",
       "      <td>1</td>\n",
       "      <td>505</td>\n",
       "      <td>5.0</td>\n",
       "    </tr>\n",
       "    <tr>\n",
       "      <th>20170101</th>\n",
       "      <td>4930</td>\n",
       "      <td>234155:1:3003.09</td>\n",
       "      <td>1/1/2017 7:09</td>\n",
       "      <td>8952602</td>\n",
       "      <td>3.0</td>\n",
       "      <td>1</td>\n",
       "      <td>505</td>\n",
       "      <td>NaN</td>\n",
       "    </tr>\n",
       "    <tr>\n",
       "      <th>20170101</th>\n",
       "      <td>4937</td>\n",
       "      <td>209238:1:10.09</td>\n",
       "      <td>1/1/2017 14:12</td>\n",
       "      <td>69165945</td>\n",
       "      <td>NaN</td>\n",
       "      <td>0</td>\n",
       "      <td>387</td>\n",
       "      <td>NaN</td>\n",
       "    </tr>\n",
       "    <tr>\n",
       "      <th>20170101</th>\n",
       "      <td>6827</td>\n",
       "      <td>182517:1:965.21</td>\n",
       "      <td>1/1/2017 13:13</td>\n",
       "      <td>41670373</td>\n",
       "      <td>0.0</td>\n",
       "      <td>1</td>\n",
       "      <td>42</td>\n",
       "      <td>5.0</td>\n",
       "    </tr>\n",
       "    <tr>\n",
       "      <th>20170101</th>\n",
       "      <td>10231</td>\n",
       "      <td>154345:1:74.77</td>\n",
       "      <td>1/1/2017 17:19</td>\n",
       "      <td>31580563</td>\n",
       "      <td>NaN</td>\n",
       "      <td>0</td>\n",
       "      <td>3</td>\n",
       "      <td>5.0</td>\n",
       "    </tr>\n",
       "  </tbody>\n",
       "</table>\n",
       "</div>"
      ],
      "text/plain": [
       "            day          order_id   item_det_info  pay_timestamp  buyer_id  \\\n",
       "20170101    488   86889:1:1152.11  1/1/2017 13:07       73376137       3.0   \n",
       "20170101   4930  234155:1:3003.09   1/1/2017 7:09        8952602       3.0   \n",
       "20170101   4937    209238:1:10.09  1/1/2017 14:12       69165945       NaN   \n",
       "20170101   6827   182517:1:965.21  1/1/2017 13:13       41670373       0.0   \n",
       "20170101  10231    154345:1:74.77  1/1/2017 17:19       31580563       NaN   \n",
       "\n",
       "          promise_speed  merchant_id  Logistics_review_score  \n",
       "20170101              1          505                     5.0  \n",
       "20170101              1          505                     NaN  \n",
       "20170101              0          387                     NaN  \n",
       "20170101              1           42                     5.0  \n",
       "20170101              0            3                     5.0  "
      ]
     },
     "execution_count": 4,
     "metadata": {},
     "output_type": "execute_result"
    }
   ],
   "source": [
    "df[:5]"
   ]
  },
  {
   "cell_type": "code",
   "execution_count": 8,
   "metadata": {
    "collapsed": true
   },
   "outputs": [],
   "source": [
    "#Convert column \"pay_timestamp\" to a datetime column and identify today's date to determine the recency\n",
    "df['pay_timestamp'] = pd.to_datetime(df['pay_timestamp'])\n",
    "df['today_timestamp']= pd.to_datetime('today')"
   ]
  },
  {
   "cell_type": "code",
   "execution_count": 9,
   "metadata": {},
   "outputs": [
    {
     "data": {
      "text/plain": [
       "day                                int64\n",
       "order_id                          object\n",
       "item_det_info                     object\n",
       "pay_timestamp             datetime64[ns]\n",
       "buyer_id                         float64\n",
       "promise_speed                      int64\n",
       "merchant_id                        int64\n",
       "Logistics_review_score           float64\n",
       "today_timestamp           datetime64[ns]\n",
       "dtype: object"
      ]
     },
     "execution_count": 9,
     "metadata": {},
     "output_type": "execute_result"
    }
   ],
   "source": [
    "#Check the data types for all columns\n",
    "df.dtypes"
   ]
  },
  {
   "cell_type": "code",
   "execution_count": 10,
   "metadata": {
    "collapsed": true
   },
   "outputs": [],
   "source": [
    "#Calculate \"recency\"\n",
    "df['recency'] = df['today_timestamp'] - df['pay_timestamp']"
   ]
  },
  {
   "cell_type": "code",
   "execution_count": 35,
   "metadata": {
    "collapsed": true
   },
   "outputs": [],
   "source": [
    "#df['recency']\n",
    "#df.iloc[56]"
   ]
  },
  {
   "cell_type": "code",
   "execution_count": null,
   "metadata": {},
   "outputs": [],
   "source": [
    "#Calculate revenue for each coupon\n",
    "s =[]\n",
    "for row in range(len(df)):\n",
    "    items = df['item_det_info'][row].split(';')\n",
    "    #print(items)\n",
    "    for i in range(len(items)):\n",
    "        revenue = 0 \n",
    "        si = items[i]\n",
    "        item_info = si.split(':')\n",
    "        if len(item_info) == 3:\n",
    "            revenue += float (item_info[2])\n",
    "        else:\n",
    "            #print('incomplete data:', si)\n",
    "            pass\n",
    "    s.append(revenue)\n",
    "print(s)"
   ]
  },
  {
   "cell_type": "code",
   "execution_count": 37,
   "metadata": {
    "collapsed": true
   },
   "outputs": [],
   "source": [
    "#Create a Series for revenue data\n",
    "se = pd.Series(s)\n",
    "df['revenue'] = se.values"
   ]
  },
  {
   "cell_type": "code",
   "execution_count": 38,
   "metadata": {},
   "outputs": [
    {
     "data": {
      "text/plain": [
       "0      1152.11\n",
       "1      3003.09\n",
       "2        10.09\n",
       "3       965.21\n",
       "4        74.77\n",
       "5         6.99\n",
       "6        20.39\n",
       "7      1056.57\n",
       "8       123.35\n",
       "9        59.58\n",
       "10      116.53\n",
       "11       20.36\n",
       "12       64.39\n",
       "13        8.64\n",
       "14       21.28\n",
       "15      308.74\n",
       "16       30.01\n",
       "17       11.80\n",
       "18        9.05\n",
       "19       39.91\n",
       "20       28.53\n",
       "21       14.52\n",
       "22       29.25\n",
       "23       28.93\n",
       "24       10.69\n",
       "25     3366.12\n",
       "26     1152.11\n",
       "27       69.83\n",
       "28       34.09\n",
       "29       96.29\n",
       "        ...   \n",
       "970      11.56\n",
       "971      75.84\n",
       "972       0.00\n",
       "973       0.00\n",
       "974       2.75\n",
       "975     207.76\n",
       "976      12.69\n",
       "977      20.27\n",
       "978      32.87\n",
       "979     138.54\n",
       "980      47.33\n",
       "981      51.67\n",
       "982      44.03\n",
       "983       8.96\n",
       "984    1125.25\n",
       "985      34.47\n",
       "986      25.98\n",
       "987       2.94\n",
       "988    1200.51\n",
       "989      24.18\n",
       "990      86.86\n",
       "991      31.91\n",
       "992      27.98\n",
       "993      58.65\n",
       "994     158.67\n",
       "995    1474.72\n",
       "996     273.04\n",
       "997      28.60\n",
       "998      13.88\n",
       "999    3205.77\n",
       "Name: revenue, Length: 1000, dtype: float64"
      ]
     },
     "execution_count": 38,
     "metadata": {},
     "output_type": "execute_result"
    }
   ],
   "source": [
    "#Check revenue data in df\n",
    "df['revenue']"
   ]
  },
  {
   "cell_type": "code",
   "execution_count": 39,
   "metadata": {
    "collapsed": true
   },
   "outputs": [],
   "source": [
    "#df"
   ]
  },
  {
   "cell_type": "code",
   "execution_count": 40,
   "metadata": {},
   "outputs": [
    {
     "data": {
      "text/plain": [
       "buyer_id\n",
       "11066         13.21\n",
       "23161         20.36\n",
       "106330        68.25\n",
       "207739        26.58\n",
       "451646        43.96\n",
       "638328        12.28\n",
       "675354        81.32\n",
       "682224        89.32\n",
       "704189       997.49\n",
       "923664        13.07\n",
       "1011410        0.00\n",
       "1041190     1213.30\n",
       "1476537        9.69\n",
       "1610920       35.12\n",
       "1686928       35.12\n",
       "1711489     1961.23\n",
       "1851545     2924.09\n",
       "1862440      965.21\n",
       "2045554       45.06\n",
       "2153669       18.21\n",
       "2157360        9.76\n",
       "2385711        9.95\n",
       "2459911       90.77\n",
       "2482885        9.58\n",
       "2589154       31.43\n",
       "2619266       34.09\n",
       "2704490       81.89\n",
       "2710049       62.86\n",
       "2733483       52.51\n",
       "2922630       32.86\n",
       "             ...   \n",
       "81685825     318.24\n",
       "81824089     130.84\n",
       "81890222      41.81\n",
       "81922154      93.88\n",
       "81933545      22.58\n",
       "82055205     622.38\n",
       "82196040      31.91\n",
       "82274743    1061.46\n",
       "82327328      10.62\n",
       "82398709      96.29\n",
       "82449488       7.66\n",
       "82514419     435.85\n",
       "82647934      96.77\n",
       "82800437     495.84\n",
       "82815396      60.93\n",
       "82889604    1028.22\n",
       "82976674       3.07\n",
       "83266082     302.31\n",
       "83290047      36.77\n",
       "83344887     181.48\n",
       "83353666       6.89\n",
       "83392150     104.17\n",
       "83448593    1056.57\n",
       "83566977      18.12\n",
       "83583540       2.91\n",
       "83757979      93.82\n",
       "83901756      10.89\n",
       "83921364      15.74\n",
       "84064436       1.98\n",
       "84316723    3003.09\n",
       "Name: revenue, Length: 1000, dtype: float64"
      ]
     },
     "execution_count": 40,
     "metadata": {},
     "output_type": "execute_result"
    }
   ],
   "source": [
    "#Calculate revenue on each user ID\n",
    "df2 = df.groupby(['buyer_id'])['revenue'].sum()\n",
    "df2"
   ]
  },
  {
   "cell_type": "code",
   "execution_count": 41,
   "metadata": {},
   "outputs": [
    {
     "data": {
      "text/plain": [
       "buyer_id\n",
       "11066       1\n",
       "23161       1\n",
       "106330      1\n",
       "207739      1\n",
       "451646      1\n",
       "638328      1\n",
       "675354      1\n",
       "682224      1\n",
       "704189      1\n",
       "923664      1\n",
       "1011410     1\n",
       "1041190     1\n",
       "1476537     1\n",
       "1610920     1\n",
       "1686928     1\n",
       "1711489     1\n",
       "1851545     1\n",
       "1862440     1\n",
       "2045554     1\n",
       "2153669     1\n",
       "2157360     1\n",
       "2385711     1\n",
       "2459911     1\n",
       "2482885     1\n",
       "2589154     1\n",
       "2619266     1\n",
       "2704490     1\n",
       "2710049     1\n",
       "2733483     1\n",
       "2922630     1\n",
       "           ..\n",
       "81685825    1\n",
       "81824089    1\n",
       "81890222    1\n",
       "81922154    1\n",
       "81933545    1\n",
       "82055205    1\n",
       "82196040    1\n",
       "82274743    1\n",
       "82327328    1\n",
       "82398709    1\n",
       "82449488    1\n",
       "82514419    1\n",
       "82647934    1\n",
       "82800437    1\n",
       "82815396    1\n",
       "82889604    1\n",
       "82976674    1\n",
       "83266082    1\n",
       "83290047    1\n",
       "83344887    1\n",
       "83353666    1\n",
       "83392150    1\n",
       "83448593    1\n",
       "83566977    1\n",
       "83583540    1\n",
       "83757979    1\n",
       "83901756    1\n",
       "83921364    1\n",
       "84064436    1\n",
       "84316723    1\n",
       "Name: pay_timestamp, Length: 1000, dtype: int64"
      ]
     },
     "execution_count": 41,
     "metadata": {},
     "output_type": "execute_result"
    }
   ],
   "source": [
    "#Calculate purchase frequency of each User ID\n",
    "df3 = df.groupby(['buyer_id'])['pay_timestamp'].count()\n",
    "df3"
   ]
  },
  {
   "cell_type": "code",
   "execution_count": 42,
   "metadata": {},
   "outputs": [
    {
     "data": {
      "text/plain": [
       "buyer_id\n",
       "11066      516 days 09:45:00\n",
       "23161      516 days 15:11:00\n",
       "106330     516 days 09:54:00\n",
       "207739     516 days 04:49:00\n",
       "451646     516 days 00:09:00\n",
       "638328     516 days 04:37:00\n",
       "675354     516 days 12:51:00\n",
       "682224     516 days 11:56:00\n",
       "704189     516 days 11:59:00\n",
       "923664     516 days 15:28:00\n",
       "1011410    516 days 15:18:00\n",
       "1041190    516 days 23:34:00\n",
       "1476537    516 days 08:31:00\n",
       "1610920    516 days 13:21:00\n",
       "1686928    516 days 10:30:00\n",
       "1711489    516 days 23:45:00\n",
       "1851545    516 days 23:34:00\n",
       "1862440    516 days 05:07:00\n",
       "2045554    516 days 15:27:00\n",
       "2153669    516 days 07:19:00\n",
       "2157360    516 days 13:05:00\n",
       "2385711    516 days 07:55:00\n",
       "2459911    516 days 05:04:00\n",
       "2482885    516 days 14:58:00\n",
       "2589154    516 days 08:08:00\n",
       "2619266    516 days 09:27:00\n",
       "2704490    516 days 11:54:00\n",
       "2710049    516 days 00:58:00\n",
       "2733483    516 days 07:58:00\n",
       "2922630    516 days 11:25:00\n",
       "                  ...       \n",
       "81685825   516 days 08:13:00\n",
       "81824089   516 days 07:44:00\n",
       "81890222   516 days 02:50:00\n",
       "81922154   516 days 05:29:00\n",
       "81933545   516 days 08:04:00\n",
       "82055205   516 days 11:44:00\n",
       "82196040   516 days 07:34:00\n",
       "82274743   516 days 16:29:00\n",
       "82327328   516 days 02:11:00\n",
       "82398709   516 days 09:25:00\n",
       "82449488   516 days 11:09:00\n",
       "82514419   516 days 12:04:00\n",
       "82647934   516 days 21:53:00\n",
       "82800437   516 days 09:20:00\n",
       "82815396   516 days 00:47:00\n",
       "82889604   516 days 07:26:00\n",
       "82976674   516 days 02:10:00\n",
       "83266082   516 days 06:51:00\n",
       "83290047   516 days 12:45:00\n",
       "83344887   516 days 08:51:00\n",
       "83353666   516 days 04:13:00\n",
       "83392150   516 days 02:45:00\n",
       "83448593   516 days 23:58:00\n",
       "83566977   516 days 08:20:00\n",
       "83583540   516 days 16:05:00\n",
       "83757979   516 days 03:42:00\n",
       "83901756   516 days 09:06:00\n",
       "83921364   516 days 12:36:00\n",
       "84064436   516 days 08:29:00\n",
       "84316723   516 days 06:12:00\n",
       "Name: recency, Length: 1000, dtype: timedelta64[ns]"
      ]
     },
     "execution_count": 42,
     "metadata": {},
     "output_type": "execute_result"
    }
   ],
   "source": [
    "#Calculate recency of each User ID\n",
    "df4 = df.groupby(['buyer_id'])['recency'].min()\n",
    "df4"
   ]
  },
  {
   "cell_type": "code",
   "execution_count": 43,
   "metadata": {
    "collapsed": true
   },
   "outputs": [],
   "source": [
    "#Create a new DataFrame by concating DataFrames about revenue, purchase and recency, and rename columns\n",
    "rfmTable = pd.concat([df2, df3, df4], axis=1).reset_index()\n",
    "rfmTable.columns = ['buyer_id', 'monetary', 'frequency','recency']"
   ]
  },
  {
   "cell_type": "code",
   "execution_count": 44,
   "metadata": {
    "collapsed": true
   },
   "outputs": [],
   "source": [
    "#Convert \"recency\" data to days\n",
    "rfmTable.recency = rfmTable.recency.dt.days"
   ]
  },
  {
   "cell_type": "code",
   "execution_count": 45,
   "metadata": {
    "collapsed": true
   },
   "outputs": [],
   "source": [
    "#Split metrics into segments by using quartiles\n",
    "quantiles = rfmTable.quantile(q=[0.25,0.5,0.75])\n",
    "quantiles = quantiles.to_dict()"
   ]
  },
  {
   "cell_type": "code",
   "execution_count": 7,
   "metadata": {},
   "outputs": [
    {
     "ename": "NameError",
     "evalue": "name 'rfmTable' is not defined",
     "output_type": "error",
     "traceback": [
      "\u001b[0;31m---------------------------------------------------------------------------\u001b[0m",
      "\u001b[0;31mNameError\u001b[0m                                 Traceback (most recent call last)",
      "\u001b[0;32m<ipython-input-7-72dbd064dcd7>\u001b[0m in \u001b[0;36m<module>\u001b[0;34m()\u001b[0m\n\u001b[1;32m      1\u001b[0m \u001b[0;31m#Create a segmented RFM table\u001b[0m\u001b[0;34m\u001b[0m\u001b[0;34m\u001b[0m\u001b[0m\n\u001b[0;32m----> 2\u001b[0;31m \u001b[0msegmented_rfm\u001b[0m \u001b[0;34m=\u001b[0m \u001b[0mrfmTable\u001b[0m\u001b[0;34m\u001b[0m\u001b[0m\n\u001b[0m",
      "\u001b[0;31mNameError\u001b[0m: name 'rfmTable' is not defined"
     ]
    }
   ],
   "source": [
    "#Create a segmented RFM table\n",
    "segmented_rfm = rfmTable"
   ]
  },
  {
   "cell_type": "code",
   "execution_count": 47,
   "metadata": {
    "collapsed": true
   },
   "outputs": [],
   "source": [
    "#Calculate Recency scores and FM scores\n",
    "def RScore(x,p,d):\n",
    "    if x <= d[p][0.25]:\n",
    "        return 1\n",
    "    elif x <= d[p][0.50]:\n",
    "        return 2\n",
    "    elif x <= d[p][0.75]: \n",
    "        return 3\n",
    "    else:\n",
    "        return 4\n",
    "    \n",
    "def FMScore(x,p,d):\n",
    "    if x <= d[p][0.25]:\n",
    "        return 4\n",
    "    elif x <= d[p][0.50]:\n",
    "        return 3\n",
    "    elif x <= d[p][0.75]: \n",
    "        return 2\n",
    "    else:\n",
    "        return 1"
   ]
  },
  {
   "cell_type": "code",
   "execution_count": 6,
   "metadata": {},
   "outputs": [
    {
     "ename": "NameError",
     "evalue": "name 'segmented_rfm' is not defined",
     "output_type": "error",
     "traceback": [
      "\u001b[0;31m---------------------------------------------------------------------------\u001b[0m",
      "\u001b[0;31mNameError\u001b[0m                                 Traceback (most recent call last)",
      "\u001b[0;32m<ipython-input-6-43c67440166d>\u001b[0m in \u001b[0;36m<module>\u001b[0;34m()\u001b[0m\n\u001b[1;32m      1\u001b[0m \u001b[0;31m#Add segment numbers to the newly created segmented RFM table\u001b[0m\u001b[0;34m\u001b[0m\u001b[0;34m\u001b[0m\u001b[0m\n\u001b[0;32m----> 2\u001b[0;31m \u001b[0msegmented_rfm\u001b[0m\u001b[0;34m[\u001b[0m\u001b[0;34m'r_quartile'\u001b[0m\u001b[0;34m]\u001b[0m \u001b[0;34m=\u001b[0m \u001b[0msegmented_rfm\u001b[0m\u001b[0;34m[\u001b[0m\u001b[0;34m'recency'\u001b[0m\u001b[0;34m]\u001b[0m\u001b[0;34m.\u001b[0m\u001b[0mapply\u001b[0m\u001b[0;34m(\u001b[0m\u001b[0mRScore\u001b[0m\u001b[0;34m,\u001b[0m \u001b[0margs\u001b[0m\u001b[0;34m=\u001b[0m\u001b[0;34m(\u001b[0m\u001b[0;34m'recency'\u001b[0m\u001b[0;34m,\u001b[0m\u001b[0mquantiles\u001b[0m\u001b[0;34m,\u001b[0m\u001b[0;34m)\u001b[0m\u001b[0;34m)\u001b[0m\u001b[0;34m\u001b[0m\u001b[0m\n\u001b[0m\u001b[1;32m      3\u001b[0m \u001b[0msegmented_rfm\u001b[0m\u001b[0;34m[\u001b[0m\u001b[0;34m'f_quartile'\u001b[0m\u001b[0;34m]\u001b[0m \u001b[0;34m=\u001b[0m \u001b[0msegmented_rfm\u001b[0m\u001b[0;34m[\u001b[0m\u001b[0;34m'frequency'\u001b[0m\u001b[0;34m]\u001b[0m\u001b[0;34m.\u001b[0m\u001b[0mapply\u001b[0m\u001b[0;34m(\u001b[0m\u001b[0mFMScore\u001b[0m\u001b[0;34m,\u001b[0m \u001b[0margs\u001b[0m\u001b[0;34m=\u001b[0m\u001b[0;34m(\u001b[0m\u001b[0;34m'frequency'\u001b[0m\u001b[0;34m,\u001b[0m\u001b[0mquantiles\u001b[0m\u001b[0;34m,\u001b[0m\u001b[0;34m)\u001b[0m\u001b[0;34m)\u001b[0m\u001b[0;34m\u001b[0m\u001b[0m\n\u001b[1;32m      4\u001b[0m \u001b[0msegmented_rfm\u001b[0m\u001b[0;34m[\u001b[0m\u001b[0;34m'm_quartile'\u001b[0m\u001b[0;34m]\u001b[0m \u001b[0;34m=\u001b[0m \u001b[0msegmented_rfm\u001b[0m\u001b[0;34m[\u001b[0m\u001b[0;34m'monetary'\u001b[0m\u001b[0;34m]\u001b[0m\u001b[0;34m.\u001b[0m\u001b[0mapply\u001b[0m\u001b[0;34m(\u001b[0m\u001b[0mFMScore\u001b[0m\u001b[0;34m,\u001b[0m \u001b[0margs\u001b[0m\u001b[0;34m=\u001b[0m\u001b[0;34m(\u001b[0m\u001b[0;34m'monetary'\u001b[0m\u001b[0;34m,\u001b[0m\u001b[0mquantiles\u001b[0m\u001b[0;34m,\u001b[0m\u001b[0;34m)\u001b[0m\u001b[0;34m)\u001b[0m\u001b[0;34m\u001b[0m\u001b[0m\n\u001b[1;32m      5\u001b[0m \u001b[0msegmented_rfm\u001b[0m\u001b[0;34m\u001b[0m\u001b[0m\n",
      "\u001b[0;31mNameError\u001b[0m: name 'segmented_rfm' is not defined"
     ]
    }
   ],
   "source": [
    "#Add segment numbers to the newly created segmented RFM table\n",
    "segmented_rfm['r_quartile'] = segmented_rfm['recency'].apply(RScore, args=('recency',quantiles,))\n",
    "segmented_rfm['f_quartile'] = segmented_rfm['frequency'].apply(FMScore, args=('frequency',quantiles,))\n",
    "segmented_rfm['m_quartile'] = segmented_rfm['monetary'].apply(FMScore, args=('monetary',quantiles,))\n",
    "segmented_rfm"
   ]
  },
  {
   "cell_type": "code",
   "execution_count": 51,
   "metadata": {
    "collapsed": true
   },
   "outputs": [],
   "source": [
    "#Add a new column to combine RFM score: 141 is the highest score as we saw from the segmented_rfm table\n",
    "segmented_rfm['RFMScore'] = segmented_rfm.r_quartile.map(str) + segmented_rfm.f_quartile.map(str) + segmented_rfm.m_quartile.map(str)"
   ]
  },
  {
   "cell_type": "code",
   "execution_count": 52,
   "metadata": {},
   "outputs": [
    {
     "data": {
      "text/html": [
       "<div>\n",
       "<style>\n",
       "    .dataframe thead tr:only-child th {\n",
       "        text-align: right;\n",
       "    }\n",
       "\n",
       "    .dataframe thead th {\n",
       "        text-align: left;\n",
       "    }\n",
       "\n",
       "    .dataframe tbody tr th {\n",
       "        vertical-align: top;\n",
       "    }\n",
       "</style>\n",
       "<table border=\"1\" class=\"dataframe\">\n",
       "  <thead>\n",
       "    <tr style=\"text-align: right;\">\n",
       "      <th></th>\n",
       "      <th>buyer_id</th>\n",
       "      <th>monetary</th>\n",
       "      <th>frequency</th>\n",
       "      <th>recency</th>\n",
       "      <th>r_quartile</th>\n",
       "      <th>f_quartile</th>\n",
       "      <th>m_quartile</th>\n",
       "      <th>RFMScore</th>\n",
       "    </tr>\n",
       "  </thead>\n",
       "  <tbody>\n",
       "    <tr>\n",
       "      <th>485</th>\n",
       "      <td>41116008</td>\n",
       "      <td>6832.49</td>\n",
       "      <td>1</td>\n",
       "      <td>516</td>\n",
       "      <td>1</td>\n",
       "      <td>4</td>\n",
       "      <td>1</td>\n",
       "      <td>141</td>\n",
       "    </tr>\n",
       "    <tr>\n",
       "      <th>477</th>\n",
       "      <td>40241993</td>\n",
       "      <td>3367.39</td>\n",
       "      <td>1</td>\n",
       "      <td>516</td>\n",
       "      <td>1</td>\n",
       "      <td>4</td>\n",
       "      <td>1</td>\n",
       "      <td>141</td>\n",
       "    </tr>\n",
       "    <tr>\n",
       "      <th>361</th>\n",
       "      <td>31901926</td>\n",
       "      <td>3366.12</td>\n",
       "      <td>1</td>\n",
       "      <td>516</td>\n",
       "      <td>1</td>\n",
       "      <td>4</td>\n",
       "      <td>1</td>\n",
       "      <td>141</td>\n",
       "    </tr>\n",
       "    <tr>\n",
       "      <th>455</th>\n",
       "      <td>38515899</td>\n",
       "      <td>3205.77</td>\n",
       "      <td>1</td>\n",
       "      <td>516</td>\n",
       "      <td>1</td>\n",
       "      <td>4</td>\n",
       "      <td>1</td>\n",
       "      <td>141</td>\n",
       "    </tr>\n",
       "    <tr>\n",
       "      <th>999</th>\n",
       "      <td>84316723</td>\n",
       "      <td>3003.09</td>\n",
       "      <td>1</td>\n",
       "      <td>516</td>\n",
       "      <td>1</td>\n",
       "      <td>4</td>\n",
       "      <td>1</td>\n",
       "      <td>141</td>\n",
       "    </tr>\n",
       "    <tr>\n",
       "      <th>524</th>\n",
       "      <td>44241655</td>\n",
       "      <td>3003.09</td>\n",
       "      <td>1</td>\n",
       "      <td>516</td>\n",
       "      <td>1</td>\n",
       "      <td>4</td>\n",
       "      <td>1</td>\n",
       "      <td>141</td>\n",
       "    </tr>\n",
       "    <tr>\n",
       "      <th>106</th>\n",
       "      <td>8952602</td>\n",
       "      <td>3003.09</td>\n",
       "      <td>1</td>\n",
       "      <td>516</td>\n",
       "      <td>1</td>\n",
       "      <td>4</td>\n",
       "      <td>1</td>\n",
       "      <td>141</td>\n",
       "    </tr>\n",
       "    <tr>\n",
       "      <th>597</th>\n",
       "      <td>50375950</td>\n",
       "      <td>2972.86</td>\n",
       "      <td>1</td>\n",
       "      <td>516</td>\n",
       "      <td>1</td>\n",
       "      <td>4</td>\n",
       "      <td>1</td>\n",
       "      <td>141</td>\n",
       "    </tr>\n",
       "    <tr>\n",
       "      <th>813</th>\n",
       "      <td>67560428</td>\n",
       "      <td>2958.40</td>\n",
       "      <td>1</td>\n",
       "      <td>516</td>\n",
       "      <td>1</td>\n",
       "      <td>4</td>\n",
       "      <td>1</td>\n",
       "      <td>141</td>\n",
       "    </tr>\n",
       "    <tr>\n",
       "      <th>586</th>\n",
       "      <td>49156763</td>\n",
       "      <td>2938.67</td>\n",
       "      <td>1</td>\n",
       "      <td>516</td>\n",
       "      <td>1</td>\n",
       "      <td>4</td>\n",
       "      <td>1</td>\n",
       "      <td>141</td>\n",
       "    </tr>\n",
       "  </tbody>\n",
       "</table>\n",
       "</div>"
      ],
      "text/plain": [
       "     buyer_id  monetary  frequency  recency  r_quartile  f_quartile  \\\n",
       "485  41116008   6832.49          1      516           1           4   \n",
       "477  40241993   3367.39          1      516           1           4   \n",
       "361  31901926   3366.12          1      516           1           4   \n",
       "455  38515899   3205.77          1      516           1           4   \n",
       "999  84316723   3003.09          1      516           1           4   \n",
       "524  44241655   3003.09          1      516           1           4   \n",
       "106   8952602   3003.09          1      516           1           4   \n",
       "597  50375950   2972.86          1      516           1           4   \n",
       "813  67560428   2958.40          1      516           1           4   \n",
       "586  49156763   2938.67          1      516           1           4   \n",
       "\n",
       "     m_quartile RFMScore  \n",
       "485           1      141  \n",
       "477           1      141  \n",
       "361           1      141  \n",
       "455           1      141  \n",
       "999           1      141  \n",
       "524           1      141  \n",
       "106           1      141  \n",
       "597           1      141  \n",
       "813           1      141  \n",
       "586           1      141  "
      ]
     },
     "execution_count": 52,
     "metadata": {},
     "output_type": "execute_result"
    }
   ],
   "source": [
    "#Find out the top 10 of our best customers\n",
    "segmented_rfm[segmented_rfm['RFMScore']=='141'].sort_values('monetary', ascending=False).head(10)"
   ]
  },
  {
   "cell_type": "code",
   "execution_count": 53,
   "metadata": {
    "collapsed": true
   },
   "outputs": [],
   "source": [
    "#Output a csv file with FMScore\" relevant metrics on each \"buyer_id\"\n",
    "out = segmented_rfm\n",
    "out.to_csv('CustomerSegmentationRFM.csv')"
   ]
  }
 ],
 "metadata": {
  "kernelspec": {
   "display_name": "Python 2",
   "language": "python",
   "name": "python2"
  },
  "language_info": {
   "codemirror_mode": {
    "name": "ipython",
    "version": 2
   },
   "file_extension": ".py",
   "mimetype": "text/x-python",
   "name": "python",
   "nbconvert_exporter": "python",
   "pygments_lexer": "ipython2",
   "version": "2.7.16"
  }
 },
 "nbformat": 4,
 "nbformat_minor": 2
}
